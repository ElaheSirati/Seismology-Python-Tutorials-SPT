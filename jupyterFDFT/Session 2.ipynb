{
 "cells": [
  {
   "cell_type": "markdown",
   "metadata": {},
   "source": [
    "# Introduction to wave propagation in acoustic media\n",
    "## Discrete Media\n",
    "Now, we want to create a discrete media. The there are some parameters we need to adjust.\n",
    "- dx : Grid Spacing in x direction (m)\n",
    "- dz : Grid Spacing in z direction (m)\n",
    "- nx : The number of grid points in x direction\n",
    "- nz : The number of grid points in z direction\n",
    "- Creating 2 1D-Array in x and z direcition in unit meter, just for showing x-axis and y-axis in plot correctly.\n",
    "    - Start Point is 0 and the final point is $nx*dx$ or $nz*dz$ in unit of meter and interval between grids is 10 meter."
   ]
  },
  {
   "cell_type": "code",
   "execution_count": 43,
   "metadata": {},
   "outputs": [],
   "source": [
    "import matplotlib.pyplot as plt\n",
    "import numpy as np\n",
    "\n",
    "dx = 10  # uint : m\n",
    "dz = 10  # uint : m\n",
    "nx = 100\n",
    "nz = 100\n",
    "X = np.arange(0 , nx*dx , dx)  # uint : m  ==> the usage is just to show axises correctly when we plot velocity model\n",
    "Z = np.arange(0 , nz*dz , dz)  # uint : m  ==> the usage is just to show axises correctly when we plot velocity model"
   ]
  },
  {
   "cell_type": "markdown",
   "metadata": {},
   "source": [
    "Now we create a vlocity model using above parameters. At first we create a homogeneous model with velocity (e.g. 1500 *m/s*). To do this first creat a ones matrix ( a matrix that all of its elemnts is 1 ) with size of nx in rows and nz in columns, and then multiply it with 1500.\n",
    "To creating such matrix we use *numpy.ones()* function. *ones* function takes only one input ( e.g. numpy.ones(X) ) and it creates a square matrix with number of rows and columns equal to X. To specify the number of rows and columns we can put them between another **()** and then give it to the function as a one input."
   ]
  },
  {
   "cell_type": "code",
   "execution_count": 44,
   "metadata": {},
   "outputs": [],
   "source": [
    "#V = np.ones(nx,nz)*1500      # Using ones function in this manner is not possible beacuse it has two input right now.\n",
    "V = np.ones( (nx,nz) )*1500   # Here (nx,nz) is given to function by using () arround them. 1500 is the velocity [m/s]."
   ]
  },
  {
   "cell_type": "markdown",
   "metadata": {},
   "source": [
    "Now lets look at what we create. To show a matrix we do not using *plot* functio, it is only use for 1D-arraies. A matrix is a 2D-array so we need another function. We use ***imshow*** function from matplotlib.pyplot library."
   ]
  },
  {
   "cell_type": "code",
   "execution_count": 50,
   "metadata": {},
   "outputs": [
    {
     "data": {
      "image/png": "[encoded data removed]",
      "text/plain": [
       "<Figure size 432x288 with 1 Axes>"
      ]
     },
     "metadata": {
      "needs_background": "light"
     },
     "output_type": "display_data"
    }
   ],
   "source": [
    "plt.imshow(V);"
   ]
  },
  {
   "cell_type": "markdown",
   "metadata": {},
   "source": [
    "Again the y-axis and x-axis are not in unit of meter and they are showing the number of grids in each direction. To show it in mtere unit we use our **X** and **Z** array, which we creat at first step.\n",
    "*imshow(data, axies data)* takes two inputs. First one is data or the matrix we want to see, the second one is the min and max of **X** and **Z** array. We fill second input like this: *extent =[X.min(), X.max(), Z.min(), Z.max()]*."
   ]
  },
  {
   "cell_type": "code",
   "execution_count": 51,
   "metadata": {},
   "outputs": [
    {
     "data": {
      "image/png": "[encoded data removed]",
      "text/plain": [
       "<Figure size 432x288 with 1 Axes>"
      ]
     },
     "metadata": {
      "needs_background": "light"
     },
     "output_type": "display_data"
    }
   ],
   "source": [
    "plt.imshow(V,extent =[X.min(), X.max(), Z.min(), Z.max()]);\n",
    "plt.xlabel('Distance (m)');\n",
    "plt.ylabel('Depth (m)');\n",
    "plt.title('Velocity Model');"
   ]
  },
  {
   "cell_type": "markdown",
   "metadata": {},
   "source": [
    "Now we want to make a vlocity model with two horizontal layer. Above layer velocity is 1500 m/s and the vocity for the layrt below of it is 3000 m/s. So we choose a row in the middle of our model and we change the vlocity from that row to the end."
   ]
  },
  {
   "cell_type": "code",
   "execution_count": 55,
   "metadata": {},
   "outputs": [
    {
     "data": {
      "image/png": "[encoded data removed]",
      "text/plain": [
       "<Figure size 432x288 with 1 Axes>"
      ]
     },
     "metadata": {
      "needs_background": "light"
     },
     "output_type": "display_data"
    }
   ],
   "source": [
    "V = np.ones( (nx,nz) )*1500          # Creating Velocity model again, with 1500 m/s vlocity\n",
    "\n",
    "for i in range(50, nx):              # for loop in rows between row 50 to the end (nx)\n",
    "    for j in range(nz):              # for loop in all columns from 0 to the end (nz)\n",
    "        V[i][j]=V[i][j]*2            # Change the value 1500 to 3000\n",
    "        \n",
    "        \n",
    "plt.imshow(V,extent =[X.min(), X.max(), Z.min(), Z.max()]);          # Ploting\n",
    "plt.xlabel('Distance (m)');\n",
    "plt.ylabel('Depth (m)');\n",
    "plt.title('Velocity Model');"
   ]
  },
  {
   "cell_type": "markdown",
   "metadata": {},
   "source": [
    "--- \n",
    "### Assignment:"
   ]
  },
  {
   "cell_type": "markdown",
   "metadata": {},
   "source": [
    "Create a 3 vertical layer velocity model with vlocity 1000, 2000 and 3000."
   ]
  }
 ],
 "metadata": {
  "kernelspec": {
   "display_name": "Python 3",
   "language": "python",
   "name": "python3"
  },
  "language_info": {
   "codemirror_mode": {
    "name": "ipython",
    "version": 3
   },
   "file_extension": ".py",
   "mimetype": "text/x-python",
   "name": "python",
   "nbconvert_exporter": "python",
   "pygments_lexer": "ipython3",
   "version": "3.9.1"
  }
 },
 "nbformat": 4,
 "nbformat_minor": 2
}
