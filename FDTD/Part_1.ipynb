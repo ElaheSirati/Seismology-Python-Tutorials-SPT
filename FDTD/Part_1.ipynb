{
 "cells": [
  {
   "cell_type": "markdown",
   "metadata": {},
   "source": [
    "# Introduction to wave propagation in acoustic media (Time-domain)\n",
    "## Part 1: Creating a source term\n",
    "*E.Sirati, A.Rezaei*"
   ]
  },
  {
   "cell_type": "markdown",
   "metadata": {},
   "source": [
    "---"
   ]
  },
  {
   "cell_type": "markdown",
   "metadata": {},
   "source": [
    "Let's introduce the wave equation, which is defined by the relationship below, We'll teach this equation in 3 parts.\
In this session, we focus on part 1 (creating source term)."
   ]
  },
  {
   "cell_type": "markdown",
   "metadata": {},
   "source": [
    "$\Large \underbrace {\frac{{{\partial ^2}U}}{{\partial {t^2}}}}_{Part3} = \underbrace {{V^2}(\frac{{{\partial ^2}}}{{\partial {x^2}}} + \frac{{{\partial ^2}}}{{\partial {z^2}}})U}_{Part2} + \underbrace {f(t)}_{Part1}$"
   ]
  },
  {
   "cell_type": "markdown",
   "metadata": {},
   "source": [
    "In this equation, **U** is the wavefield (which we aim to calculate), **t** is time, **x** and **z** are the coordinates, **f** is the source term and **V** is the velocity model. To solve the equation above in computers we need to discretize it. We use finite difference technique for this matter. But first, let's start by creating the source term. Many wavelets can be used as the source for modelling the wave propagation. For this project, we utilize the gaussian and richer wavelets.\n",
    "\n",
    "Gaussian wavelet is defined as:"
   ]
  },
  {
   "cell_type": "markdown",
   "metadata": {},
   "source": [
    "$\\Large f(t) = a.{e^{\\left( { - {\\pi ^2}f_0^2{{(t - {t_0})}^2}} \\right)}}$"
   ]
  },
  {
   "cell_type": "markdown",
   "metadata": {},
   "source": [
    "In which **$f_0$** is the dominant frequency of the curve, **t0** is the shift and **a** is the amplitude of the gaussian.\n",
    "Now let's learn how to create and plot a gaussian wavelet.\n",
    "\n",
    "    \n",
    "- Creating an array as time: **t**\n",
    "    - Choosing a sampling interval: **dt**\n",
    "    - Creating an array from starting point (tmin) to the end (tmax) with dt as sampling interval.\n",
    "- Choosing a dominant frequency: **$f_0$**\n",
    "- Choosing arbitrarily value for **t0** and **a**"
   ]
  },
  {
   "cell_type": "markdown",
   "metadata": {},
   "source": [
    "We use 3 libraries here:\n",
    "- ***matplotlib.pyplot*** ===> **plot** function\n",
    "- ***numpy*** ===> to use functions such as: **arrange** \n",
    "- ***math*** ===> to utilize values like: **$\\pi$** "
   ]
  },
  {
   "cell_type": "code",
   "execution_count": 8,
   "metadata": {},
   "outputs": [
    {
     "data": {
      "image/png": "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\n",
      "text/plain": [
       "<Figure size 432x288 with 1 Axes>"
      ]
     },
     "metadata": {
      "needs_background": "light"
     },
     "output_type": "display_data"
    }
   ],
   "source": [
    "import matplotlib.pyplot as plt\n",
    "import numpy as np\n",
    "import math as m\n",
    "# we can just import the libraries on their own but for simplicity we use \"as\"+\"abbreviations\"\n",
    "# ------------------------------------------------------------------------------------------------------------\n",
    "# Step 1 : Creating an array as time: t\n",
    "# ------------------------------------------------------------------------------------------------------------\n",
    "dt = 0.02 # Second\n",
    "tmin = 0  # Second\n",
    "tmax = 2  # Second\n",
    "t = np.arange(tmin,tmax,dt) \n",
    "\n",
    "#arange() is one of the array creation routines based on numerical ranges.\n",
    "#It creates an instance of ndarray with evenly spaced values and returns the reference to it.  \n",
    "#This function does not contain the end point: [start point, end point)\n",
    "# arange function inputs: (start point, end point, interval)\n",
    "\n",
    "# ------------------------------------------------------------------------------------------------------------\n",
    "# Step 2 : Set some parameters\n",
    "# ------------------------------------------------------------------------------------------------------------\n",
    "f0 = 5     # Dominant frequency\n",
    "a  = 1     # Amplitude\n",
    "t0 = 0.5   # Time shift\n",
    "\n",
    "# ------------------------------------------------------------------------------------------------------------\n",
    "# Step 3 : Creating Gaussian\n",
    "# ------------------------------------------------------------------------------------------------------------\n",
    "G = a *  np.exp(-m.pi**2 * f0**2 * (t-t0)**2);\n",
    "\n",
    "# ------------------------------------------------------------------------------------------------------------\n",
    "# Step 4 : Plot the curve\n",
    "# ------------------------------------------------------------------------------------------------------------\n",
    "plt.plot(G)"
   ]
  },
  {
   "cell_type": "markdown",
   "metadata": {},
   "source": [
    "The y axis represents the values of f(t)."
   ]
  },
  {
   "cell_type": "markdown",
   "metadata": {},
   "source": [
    "Now we create our gaussian signal. The y-axis is the values of amplitudes and the x-axis is the number of data. To show it correctly we need to change x-axis to time. To do that we just add **t** before the **G** in *plt.plot()*."
   ]
  },
  {
   "cell_type": "code",
   "execution_count": 2,
   "metadata": {},
   "outputs": [
    {
     "data": {
      "image/png": "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\n",
      "text/plain": [
       "<Figure size 432x288 with 1 Axes>"
      ]
     },
     "metadata": {
      "needs_background": "light"
     },
     "output_type": "display_data"
    }
   ],
   "source": [
    "plt.plot(t,G)"
   ]
  },
  {
   "cell_type": "markdown",
   "metadata": {},
   "source": [
    "Now lets add a lable for x-axis, y-axis and a title to our curve."
   ]
  },
  {
   "cell_type": "code",
   "execution_count": 4,
   "metadata": {},
   "outputs": [
    {
     "data": {
      "image/png": "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\n",
      "text/plain": [
       "<Figure size 432x288 with 1 Axes>"
      ]
     },
     "metadata": {
      "needs_background": "light"
     },
     "output_type": "display_data"
    }
   ],
   "source": [
    "plt.plot(t,G)\n",
    "plt.xlabel('Time')\n",
    "plt.ylabel('Amplitude')\n",
    "plt.title('Gaussian Curve')"
   ]
  },
  {
   "cell_type": "markdown",
   "metadata": {},
   "source": [
    "And that's it for this session.\n",
    "Try to change the values of the gaussian function and see how it changes for you.\n",
    "- - -"
   ]
  },
  {
   "cell_type": "markdown",
   "metadata": {},
   "source": [
    "### Assignment:"
   ]
  },
  {
   "cell_type": "markdown",
   "metadata": {},
   "source": [
    "Plot a riker wavelet curve.\n",
    "The riker equation is:"
   ]
  },
  {
   "cell_type": "markdown",
   "metadata": {},
   "source": [
    "$\\Large f(t) = a(1 - 2{\\pi ^2}f_0^2{(t - {t_0})^2}){e^{\\left( { - {\\pi ^2}f_0^2{{(t - {t_0})}^2}} \\right)}}$"
   ]
  },
  {
   "cell_type": "markdown",
   "metadata": {},
   "source": [
    "---"
   ]
  },
  {
   "cell_type": "markdown",
   "metadata": {},
   "source": [
    "### Follow us\n",
    "**Researchgate**:\n",
    "\n",
    "https://www.researchgate.net/profile/Elahe-Sirati \n",
    "\n",
    "https://www.researchgate.net/profile/Arash-Rezaei-5 \n",
    "\n",
    "**Github**:\n",
    "\n",
    "https://github.com/ElaheSirati \n",
    "\n",
    "https://github.com/ArashRezaei \n",
    "\n",
    "### Contact us \n",
    "elaheh.sirati@yahoo.com \n",
    "\n",
    "arashrezaei@ut.ac.ir"
   ]
  }
 ],
 "metadata": {
  "kernelspec": {
   "display_name": "Python 3",
   "language": "python",
   "name": "python3"
  },
  "language_info": {
   "codemirror_mode": {
    "name": "ipython",
    "version": 3
   },
   "file_extension": ".py",
   "mimetype": "text/x-python",
   "name": "python",
   "nbconvert_exporter": "python",
   "pygments_lexer": "ipython3",
   "version": "3.9.1"
  },
  "varInspector": {
   "cols": {
    "lenName": 16,
    "lenType": 16,
    "lenVar": 40
   },
   "kernels_config": {
    "python": {
     "delete_cmd_postfix": "",
     "delete_cmd_prefix": "del ",
     "library": "var_list.py",
     "varRefreshCmd": "print(var_dic_list())"
    },
    "r": {
     "delete_cmd_postfix": ") ",
     "delete_cmd_prefix": "rm(",
     "library": "var_list.r",
     "varRefreshCmd": "cat(var_dic_list()) "
    }
   },
   "types_to_exclude": [
    "module",
    "function",
    "builtin_function_or_method",
    "instance",
    "_Feature"
   ],
   "window_display": false
  }
 },
 "nbformat": 4,
 "nbformat_minor": 2
}
